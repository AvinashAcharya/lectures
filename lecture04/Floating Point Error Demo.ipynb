{
 "cells": [
  {
   "cell_type": "code",
   "execution_count": 1,
   "metadata": {
    "collapsed": true
   },
   "outputs": [],
   "source": [
    "import numpy"
   ]
  },
  {
   "cell_type": "markdown",
   "metadata": {},
   "source": [
    "# Floating Point Error Demo\n",
    "\n",
    "What is the result of:\n",
    "\n",
    "$100 - \\underbrace{1 - 1 - \\cdots - 1}_{100 \\text{ times}}$?"
   ]
  },
  {
   "cell_type": "code",
   "execution_count": 2,
   "metadata": {
    "collapsed": false
   },
   "outputs": [
    {
     "name": "stdout",
     "output_type": "stream",
     "text": [
      "0\n"
     ]
    }
   ],
   "source": [
    "total = 100\n",
    "for _ in range(100):\n",
    "    total = total - 1\n",
    "    \n",
    "print total"
   ]
  },
  {
   "cell_type": "markdown",
   "metadata": {},
   "source": [
    "\n",
    "What about\n",
    "\n",
    "$100 - \\underbrace{0.1 - 0.1 - \\cdots - 0.1}_{1000 \\text{ times}}$?"
   ]
  },
  {
   "cell_type": "code",
   "execution_count": 3,
   "metadata": {
    "collapsed": false
   },
   "outputs": [
    {
     "name": "stdout",
     "output_type": "stream",
     "text": [
      "1.40434885942e-12\n"
     ]
    }
   ],
   "source": [
    "# 0.1, 1000 times\n",
    "total = 100\n",
    "for _ in range(1000):\n",
    "    total = total - 0.1\n",
    "    \n",
    "print total"
   ]
  },
  {
   "cell_type": "code",
   "execution_count": 4,
   "metadata": {
    "collapsed": false
   },
   "outputs": [
    {
     "name": "stdout",
     "output_type": "stream",
     "text": [
      "-1.42500213018e-11\n"
     ]
    }
   ],
   "source": [
    "# 0.01, 10000 times\n",
    "total = 100\n",
    "for _ in range(10000):\n",
    "    total = total - 0.01\n",
    "    \n",
    "print total"
   ]
  },
  {
   "cell_type": "code",
   "execution_count": 5,
   "metadata": {
    "collapsed": false
   },
   "outputs": [
    {
     "name": "stdout",
     "output_type": "stream",
     "text": [
      "-2.0541846379e-08\n"
     ]
    }
   ],
   "source": [
    "# 0.00001, 10 000 000 times\n",
    "total = 100\n",
    "for _ in range(10000000):\n",
    "    total = total - 0.00001\n",
    "    \n",
    "print total"
   ]
  },
  {
   "cell_type": "markdown",
   "metadata": {},
   "source": [
    "\n",
    "What about\n",
    "\n",
    "$100 - \\underbrace{0.125 - 0.125 - \\cdots - 0.125}_{800 \\text{ times}}$?"
   ]
  },
  {
   "cell_type": "code",
   "execution_count": 6,
   "metadata": {
    "collapsed": false
   },
   "outputs": [
    {
     "name": "stdout",
     "output_type": "stream",
     "text": [
      "0.0\n"
     ]
    }
   ],
   "source": [
    "total = 100\n",
    "for _ in range(800):\n",
    "    total = total - 0.125\n",
    "    \n",
    "print total"
   ]
  },
  {
   "cell_type": "markdown",
   "metadata": {},
   "source": [
    "\n",
    "What about\n",
    "\n",
    "$100 - \\underbrace{0.0625 - 0.0625 - \\cdots - 0.0625}_{1600 \\text{ times}}$?"
   ]
  },
  {
   "cell_type": "code",
   "execution_count": 7,
   "metadata": {
    "collapsed": false
   },
   "outputs": [
    {
     "name": "stdout",
     "output_type": "stream",
     "text": [
      "0.0\n"
     ]
    }
   ],
   "source": [
    "total = 100\n",
    "for _ in range(1600):\n",
    "    total = total - 0.0625\n",
    "    \n",
    "print total"
   ]
  },
  {
   "cell_type": "code",
   "execution_count": null,
   "metadata": {
    "collapsed": false
   },
   "outputs": [],
   "source": []
  },
  {
   "cell_type": "code",
   "execution_count": null,
   "metadata": {
    "collapsed": true
   },
   "outputs": [],
   "source": []
  },
  {
   "cell_type": "code",
   "execution_count": null,
   "metadata": {
    "collapsed": true
   },
   "outputs": [],
   "source": []
  }
 ],
 "metadata": {
  "kernelspec": {
   "display_name": "Python 2",
   "language": "python",
   "name": "python2"
  },
  "language_info": {
   "codemirror_mode": {
    "name": "ipython",
    "version": 2
   },
   "file_extension": ".py",
   "mimetype": "text/x-python",
   "name": "python",
   "nbconvert_exporter": "python",
   "pygments_lexer": "ipython2",
   "version": "2.7.11"
  }
 },
 "nbformat": 4,
 "nbformat_minor": 0
}
