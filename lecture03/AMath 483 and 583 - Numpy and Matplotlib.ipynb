{
 "cells": [
  {
   "cell_type": "markdown",
   "metadata": {},
   "source": [
    "# Importing Numpy\n",
    "\n",
    "Numpy include many, many functions. Sometimes it's better to keep numpy functions in numpy. Other times it's useful (and convenient) to import the functions into the global space."
   ]
  },
  {
   "cell_type": "code",
   "execution_count": 12,
   "metadata": {
    "collapsed": false
   },
   "outputs": [],
   "source": [
    "import numpy"
   ]
  },
  {
   "cell_type": "code",
   "execution_count": 13,
   "metadata": {
    "collapsed": false
   },
   "outputs": [
    {
     "data": {
      "text/plain": [
       "1.2246467991473532e-16"
      ]
     },
     "execution_count": 13,
     "metadata": {},
     "output_type": "execute_result"
    }
   ],
   "source": [
    "numpy.sin(numpy.pi)"
   ]
  },
  {
   "cell_type": "code",
   "execution_count": 15,
   "metadata": {
    "collapsed": false
   },
   "outputs": [
    {
     "data": {
      "text/plain": [
       "1.2246467991473532e-16"
      ]
     },
     "execution_count": 15,
     "metadata": {},
     "output_type": "execute_result"
    }
   ],
   "source": [
    "from numpy import pi, sin\n",
    "\n",
    "sin(pi)"
   ]
  },
  {
   "cell_type": "markdown",
   "metadata": {},
   "source": [
    "## Arrays\n",
    "\n",
    "Python lists are a data structure called a \"linked list\". They are convenient but slow and can contain a mix of data types.\n",
    "\n",
    "Numpy arrays use actual C-arrays. (Explained on Thursday.) They are fast, but are fixed size. They also have associated with them a data type."
   ]
  },
  {
   "cell_type": "code",
   "execution_count": 18,
   "metadata": {
    "collapsed": false
   },
   "outputs": [
    {
     "name": "stdout",
     "output_type": "stream",
     "text": [
      "[0, 1, 'foo', {}, 0.002134]\n"
     ]
    }
   ],
   "source": [
    "lst = [0,1,'foo', {}, 0.002134]\n",
    "print lst"
   ]
  },
  {
   "cell_type": "code",
   "execution_count": 23,
   "metadata": {
    "collapsed": false
   },
   "outputs": [
    {
     "name": "stdout",
     "output_type": "stream",
     "text": [
      "[0 1 2 3 4 5]\n",
      "int64\n"
     ]
    }
   ],
   "source": [
    "from numpy import array\n",
    "\n",
    "x = array([0,1,2,3,4,5])\n",
    "print x\n",
    "print x.dtype"
   ]
  },
  {
   "cell_type": "code",
   "execution_count": 24,
   "metadata": {
    "collapsed": false
   },
   "outputs": [
    {
     "name": "stdout",
     "output_type": "stream",
     "text": [
      "[ 0.  1.  2.  3.  4.  5.]\n",
      "float64\n"
     ]
    }
   ],
   "source": [
    "y = array([0,1,2,3,4,5], dtype=numpy.float)\n",
    "print y\n",
    "print y.dtype"
   ]
  },
  {
   "cell_type": "code",
   "execution_count": 25,
   "metadata": {
    "collapsed": false
   },
   "outputs": [
    {
     "name": "stdout",
     "output_type": "stream",
     "text": [
      "[0 1 'foo' {} 0.002134]\n",
      "object\n"
     ]
    }
   ],
   "source": [
    "z = array([0, 1, 'foo', {}, 0.002134])\n",
    "print z\n",
    "print z.dtype"
   ]
  },
  {
   "cell_type": "markdown",
   "metadata": {},
   "source": [
    "Because of the *\"static (explicit) typing\"* and underlying C arrays, Numpy is faster than pure Python."
   ]
  },
  {
   "cell_type": "code",
   "execution_count": 29,
   "metadata": {
    "collapsed": false
   },
   "outputs": [],
   "source": [
    "import math   # Python's basic math library\n",
    "import random # Python's random number library\n",
    "\n",
    "numpy.random.randn?"
   ]
  },
  {
   "cell_type": "code",
   "execution_count": 48,
   "metadata": {
    "collapsed": false
   },
   "outputs": [],
   "source": [
    "# type: random.gauss? for documentation\n",
    "N = 2**16\n",
    "arr = [random.gauss(0, 1) for n in range(N)]"
   ]
  },
  {
   "cell_type": "code",
   "execution_count": 49,
   "metadata": {
    "collapsed": false
   },
   "outputs": [
    {
     "name": "stdout",
     "output_type": "stream",
     "text": [
      "CPU times: user 9.51 ms, sys: 1.1 ms, total: 10.6 ms\n",
      "Wall time: 10.7 ms\n"
     ]
    }
   ],
   "source": [
    "%%time\n",
    "\n",
    "x = map(math.sin, arr)"
   ]
  },
  {
   "cell_type": "code",
   "execution_count": 50,
   "metadata": {
    "collapsed": false
   },
   "outputs": [],
   "source": [
    "# type: numpy.random.randn? for documentation\n",
    "arr = numpy.random.randn(N)"
   ]
  },
  {
   "cell_type": "code",
   "execution_count": 51,
   "metadata": {
    "collapsed": false
   },
   "outputs": [
    {
     "name": "stdout",
     "output_type": "stream",
     "text": [
      "CPU times: user 3.33 ms, sys: 1.3 ms, total: 4.63 ms\n",
      "Wall time: 3.11 ms\n"
     ]
    }
   ],
   "source": [
    "%%time\n",
    "\n",
    "# remember, sin == numpy.sin because of the import above\n",
    "x = sin(arr)"
   ]
  },
  {
   "cell_type": "code",
   "execution_count": 52,
   "metadata": {
    "collapsed": false
   },
   "outputs": [
    {
     "name": "stdout",
     "output_type": "stream",
     "text": [
      "['ass', 'fuck']\n",
      "['ass', 'fuck']\n"
     ]
    }
   ],
   "source": [
    "def foo(lst):\n",
    "    lst.append('fuck')\n",
    "    return lst\n",
    "\n",
    "m = ['ass']\n",
    "out = foo(m)\n",
    "\n",
    "print m\n",
    "print out"
   ]
  },
  {
   "cell_type": "code",
   "execution_count": 54,
   "metadata": {
    "collapsed": false
   },
   "outputs": [
    {
     "name": "stdout",
     "output_type": "stream",
     "text": [
      "[-42   1   2   3]\n",
      "[-42   1   2   3]\n"
     ]
    }
   ],
   "source": [
    "def bar(arr):\n",
    "    arr[0] = -42\n",
    "    return arr\n",
    "\n",
    "m = numpy.array([0,1,2,3])\n",
    "out = bar(m)\n",
    "\n",
    "print m\n",
    "print out"
   ]
  },
  {
   "cell_type": "code",
   "execution_count": 63,
   "metadata": {
    "collapsed": false
   },
   "outputs": [
    {
     "name": "stdout",
     "output_type": "stream",
     "text": [
      "5\n"
     ]
    }
   ],
   "source": [
    "def myfunction(x):\n",
    "    if (x == 1) or (x == 0):\n",
    "        return 1\n",
    "    if x < 0:\n",
    "        raise ValueError('x must be >= 0')\n",
    "\n",
    "    return myfunction(x-1) + myfunction(x-2)\n",
    "\n",
    "print myfunction(4)"
   ]
  },
  {
   "cell_type": "code",
   "execution_count": 64,
   "metadata": {
    "collapsed": true
   },
   "outputs": [],
   "source": [
    "import numpy"
   ]
  },
  {
   "cell_type": "code",
   "execution_count": 65,
   "metadata": {
    "collapsed": true
   },
   "outputs": [],
   "source": [
    "import numpy.linalg as la"
   ]
  },
  {
   "cell_type": "code",
   "execution_count": 66,
   "metadata": {
    "collapsed": true
   },
   "outputs": [],
   "source": [
    "import scipy.linalg as la"
   ]
  },
  {
   "cell_type": "code",
   "execution_count": null,
   "metadata": {
    "collapsed": true
   },
   "outputs": [],
   "source": [
    "la.solve_triangular"
   ]
  }
 ],
 "metadata": {
  "kernelspec": {
   "display_name": "Python 2",
   "language": "python",
   "name": "python2"
  },
  "language_info": {
   "codemirror_mode": {
    "name": "ipython",
    "version": 2
   },
   "file_extension": ".py",
   "mimetype": "text/x-python",
   "name": "python",
   "nbconvert_exporter": "python",
   "pygments_lexer": "ipython2",
   "version": "2.7.11"
  }
 },
 "nbformat": 4,
 "nbformat_minor": 0
}
